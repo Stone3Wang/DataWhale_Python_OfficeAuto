{
 "cells": [
  {
   "cell_type": "code",
   "execution_count": 2,
   "id": "b091ed6d",
   "metadata": {},
   "outputs": [],
   "source": [
    "import os\n",
    "import cities\n",
    "import random\n",
    "#os.getcwd()\n",
    "#创建俩文件夹\n",
    "#os.makedirs('E:\\\\Files\\\\wl_jupyter_notebook\\\\Datawhale_office_auto\\\\task01\\\\综合练习\\\\test')\n",
    "#os.makedirs('E:\\\\Files\\\\wl_jupyter_notebook\\\\Datawhale_office_auto\\\\task01\\\\综合练习\\\\answer')\n",
    "#cities.cities[0]\n",
    "#print(wd)"
   ]
  },
  {
   "cell_type": "code",
   "execution_count": 3,
   "id": "1d9f2d99",
   "metadata": {},
   "outputs": [],
   "source": [
    "#创建测试34个txt文件\n",
    "for i in range(34):\n",
    "    random.shuffle(cities.cities)#每个txt文件都需先打乱字典内容顺序\n",
    "    #分别打开新建的存放测试和答案文件夹\n",
    "    file=open(os.path.join('E:\\\\Files\\\\wl_jupyter_notebook\\\\Datawhale_office_auto\\\\task01\\\\综合练习\\\\test',f'test{str(i+1)}.txt'),'w',encoding = 'utf-8')\n",
    "    file_0 = open(os.path.join('E:\\\\Files\\\\wl_jupyter_notebook\\\\Datawhale_office_auto\\\\task01\\\\综合练习\\\\answer',f'answer{str(i+1)}.txt'),'w')\n",
    "    for j in range(34):#每个txt文件写入34题\n",
    "        cities_copy = cities.cities[:]#复制原字典\n",
    "        #print(cities_copy)\n",
    "        cities_copy.pop(j)#从复制的字典中弹出写入txt文件的字典键-值对，包含正确的答案值\n",
    "        choices = random.sample(cities_copy,3)#从弹出后的字典中随机选三个键值对组成新的列表用于备选项\n",
    "        choices.append(cities.cities[j])#从原字典中选择正确选项键值对加入新列表最后\n",
    "        choices_copy = choices[:]#选项字典列表复制，每项为‘城市’：简称’\n",
    "        random.shuffle(choices)#对选项字典列表打乱顺序\n",
    "        #print(choices)\n",
    "        alternatives = {}#新建一选项字典，并将打乱后的字典列表的值赋个每个字母键\n",
    "        alternatives['A'] = choices[0]['简称']\n",
    "        alternatives['B'] = choices[1]['简称']\n",
    "        alternatives['C'] = choices[2]['简称']\n",
    "        alternatives['D'] = choices[3]['简称']\n",
    "        #写入测试卷txt文件\n",
    "        file.write('第'+str(j+1)+'题.'+cities.cities[j]['城市']+'的简称是:'+'__'+'\\n'+\n",
    "                  'A.'+alternatives['A']+'\\t'+'B.'+alternatives['B']+'\\t'+'C.'+alternatives['C']+'\\t'+'D.'+alternatives['D']+'\\n')\n",
    "        key_list =[]#针对选项字典新建分别对应于键和值的列表\n",
    "        value_list = []\n",
    "        for key,value in alternatives.items():#选项字典中键值分别赋给新建的两列表\n",
    "            key_list.append(key)\n",
    "            value_list.append(value)\n",
    "        if choices_copy[3]['简称'] in value_list:#对原来选择出四项的字典列表，最后一项是包含正确答案\n",
    "            answer = key_list[value_list.index(choices_copy[3]['简称'])]#从正确值所对应于value_list的索引找出选项字典对应的ABCD\n",
    "        file_0.write('第'+str(j+1)+'题的答案是:'+answer+'\\n')#写入答案文件中\n",
    "        #print(answer)\n",
    "        #print(alternatives)\n",
    "\n",
    "    file.close()\n",
    "    file_0.close()\n",
    "#print(cities.cities)"
   ]
  },
  {
   "cell_type": "code",
   "execution_count": null,
   "id": "9d08dd90",
   "metadata": {},
   "outputs": [],
   "source": []
  }
 ],
 "metadata": {
  "kernelspec": {
   "display_name": "Python [conda env:study]",
   "language": "python",
   "name": "conda-env-study-py"
  },
  "language_info": {
   "codemirror_mode": {
    "name": "ipython",
    "version": 3
   },
   "file_extension": ".py",
   "mimetype": "text/x-python",
   "name": "python",
   "nbconvert_exporter": "python",
   "pygments_lexer": "ipython3",
   "version": "3.7.10"
  },
  "toc": {
   "base_numbering": 1,
   "nav_menu": {},
   "number_sections": true,
   "sideBar": true,
   "skip_h1_title": false,
   "title_cell": "Table of Contents",
   "title_sidebar": "Contents",
   "toc_cell": false,
   "toc_position": {},
   "toc_section_display": true,
   "toc_window_display": false
  }
 },
 "nbformat": 4,
 "nbformat_minor": 5
}
