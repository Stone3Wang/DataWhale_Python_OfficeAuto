{
 "cells": [
  {
   "cell_type": "code",
   "execution_count": 29,
   "id": "dc158618",
   "metadata": {},
   "outputs": [
    {
     "data": {
      "text/plain": [
       "\"[{'城市': '北京', '简称': '京'},\\n {'城市': '天津', '简称': '津'},\\n {'城市': '河北', '简称': '冀'},\\n {'城市': '山西', '简称': '晋'},\\n {'城市': '内蒙古', '简称': '蒙'},\\n {'城市': '辽宁', '简称': '辽'},\\n {'城市': '吉林', '简称': '吉'},\\n {'城市': '黑龙江', '简称': '黑'},\\n {'城市': '上海', '简称': '沪'},\\n {'城市': '江苏', '简称': '苏'},\\n {'城市': '浙江', '简称': '浙'},\\n {'城市': '安徽', '简称': '皖'},\\n {'城市': '福建', '简称': '闽'},\\n {'城市': '江西', '简称': '赣'},\\n {'城市': '山东', '简称': '鲁'},\\n {'城市': '河南', '简称': '豫'},\\n {'城市': '湖北', '简称': '鄂'},\\n {'城市': '湖南', '简称': '湘'},\\n {'城市': '广东', '简称': '粤'},\\n {'城市': '广西', '简称': '桂'},\\n {'城市': '海南', '简称': '琼'},\\n {'城市': '重庆', '简称': '渝'},\\n {'城市': '四川', '简称': '川'},\\n {'城市': '贵州', '简称': '黔'},\\n {'城市': '云南', '简称': '滇'},\\n {'城市': '西藏', '简称': '藏'},\\n {'城市': '陕西', '简称': '陕'},\\n {'城市': '甘肃', '简称': '甘'},\\n {'城市': '青海', '简称': '青'},\\n {'城市': '宁夏', '简称': '宁'},\\n {'城市': '新疆', '简称': '新'},\\n {'城市': '台湾', '简称': '台'},\\n {'城市': '香港', '简称': '港'},\\n {'城市': '澳门', '简称': '澳'}]\""
      ]
     },
     "execution_count": 29,
     "metadata": {},
     "output_type": "execute_result"
    }
   ],
   "source": [
    "import pprint\n",
    "dict = {'北京':'京',\n",
    "        '天津':'津',\n",
    "        '河北':'冀',\n",
    "        '山西':'晋',\n",
    "        '内蒙古':'蒙',\n",
    "        '辽宁':'辽',\n",
    "        '吉林':'吉',\n",
    "        '黑龙江':'黑',\n",
    "        '上海':'沪',\n",
    "        '江苏':'苏',\n",
    "        '浙江':'浙',\n",
    "        '安徽':'皖',\n",
    "        '福建':'闽',\n",
    "        '江西':'赣',\n",
    "        '山东':'鲁',\n",
    "        '河南':'豫',\n",
    "        '湖北':'鄂',\n",
    "        '湖南':'湘',\n",
    "        '广东':'粤',\n",
    "        '广西':'桂',\n",
    "        '海南':'琼',\n",
    "        '重庆':'渝',\n",
    "        '四川':'川',\n",
    "        '贵州':'黔',\n",
    "        '云南':'滇',\n",
    "        '西藏':'藏',\n",
    "        '陕西':'陕',\n",
    "        '甘肃':'甘',\n",
    "        '青海':'青',\n",
    "        '宁夏':'宁',\n",
    "        '新疆':'新',\n",
    "        '台湾':'台',\n",
    "        '香港':'港',\n",
    "        '澳门':'澳'}\n",
    "#计数器，多少个城市\n",
    "i=0\n",
    "#创建一个空列表\n",
    "cities = []\n",
    "#遍历字典中的值并生成字典列表\n",
    "for key,value in dict.items():\n",
    "    #print(str(i)+'.'+'城市'+':'+ key+','+'简称'+':'+value)\n",
    "    i=i+1\n",
    "    city = {'城市':key,'简称':value}\n",
    "    cities.append(city)\n",
    "#print(cities)\n",
    "#print(cities[10:])\n",
    "pprint.pformat(cities)"
   ]
  },
  {
   "cell_type": "code",
   "execution_count": 37,
   "id": "1286ea76",
   "metadata": {},
   "outputs": [
    {
     "data": {
      "text/plain": [
       "895"
      ]
     },
     "execution_count": 37,
     "metadata": {},
     "output_type": "execute_result"
    }
   ],
   "source": [
    "fileobj =open('cities.py','w',encoding = 'utf-8')#须加encoding = 'utf-8'\n",
    "fileobj.write('cities = '+pprint.pformat(cities)+'\\n')"
   ]
  },
  {
   "cell_type": "code",
   "execution_count": 38,
   "id": "b027525e",
   "metadata": {},
   "outputs": [],
   "source": [
    "fileobj.close()"
   ]
  }
 ],
 "metadata": {
  "kernelspec": {
   "display_name": "Python [conda env:study]",
   "language": "python",
   "name": "conda-env-study-py"
  },
  "language_info": {
   "codemirror_mode": {
    "name": "ipython",
    "version": 3
   },
   "file_extension": ".py",
   "mimetype": "text/x-python",
   "name": "python",
   "nbconvert_exporter": "python",
   "pygments_lexer": "ipython3",
   "version": "3.7.10"
  },
  "toc": {
   "base_numbering": 1,
   "nav_menu": {},
   "number_sections": true,
   "sideBar": true,
   "skip_h1_title": false,
   "title_cell": "Table of Contents",
   "title_sidebar": "Contents",
   "toc_cell": false,
   "toc_position": {},
   "toc_section_display": true,
   "toc_window_display": false
  }
 },
 "nbformat": 4,
 "nbformat_minor": 5
}
